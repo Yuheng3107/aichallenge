{
 "cells": [
  {
   "cell_type": "code",
   "execution_count": 1,
   "id": "ee44aced",
   "metadata": {},
   "outputs": [],
   "source": [
    "import numpy as np\n"
   ]
  },
  {
   "cell_type": "code",
   "execution_count": 2,
   "id": "99446c07",
   "metadata": {},
   "outputs": [],
   "source": [
    "testarr = np.zeros((720, 1280, 3))\n"
   ]
  },
  {
   "cell_type": "code",
   "execution_count": 3,
   "id": "e03841a0",
   "metadata": {},
   "outputs": [
    {
     "data": {
      "text/plain": [
       "array([[[0., 0., 0.],\n",
       "        [0., 0., 0.],\n",
       "        [0., 0., 0.],\n",
       "        ...,\n",
       "        [0., 0., 0.],\n",
       "        [0., 0., 0.],\n",
       "        [0., 0., 0.]],\n",
       "\n",
       "       [[0., 0., 0.],\n",
       "        [0., 0., 0.],\n",
       "        [0., 0., 0.],\n",
       "        ...,\n",
       "        [0., 0., 0.],\n",
       "        [0., 0., 0.],\n",
       "        [0., 0., 0.]],\n",
       "\n",
       "       [[0., 0., 0.],\n",
       "        [0., 0., 0.],\n",
       "        [0., 0., 0.],\n",
       "        ...,\n",
       "        [0., 0., 0.],\n",
       "        [0., 0., 0.],\n",
       "        [0., 0., 0.]],\n",
       "\n",
       "       ...,\n",
       "\n",
       "       [[0., 0., 0.],\n",
       "        [0., 0., 0.],\n",
       "        [0., 0., 0.],\n",
       "        ...,\n",
       "        [0., 0., 0.],\n",
       "        [0., 0., 0.],\n",
       "        [0., 0., 0.]],\n",
       "\n",
       "       [[0., 0., 0.],\n",
       "        [0., 0., 0.],\n",
       "        [0., 0., 0.],\n",
       "        ...,\n",
       "        [0., 0., 0.],\n",
       "        [0., 0., 0.],\n",
       "        [0., 0., 0.]],\n",
       "\n",
       "       [[0., 0., 0.],\n",
       "        [0., 0., 0.],\n",
       "        [0., 0., 0.],\n",
       "        ...,\n",
       "        [0., 0., 0.],\n",
       "        [0., 0., 0.],\n",
       "        [0., 0., 0.]]])"
      ]
     },
     "execution_count": 3,
     "metadata": {},
     "output_type": "execute_result"
    }
   ],
   "source": [
    "testarr"
   ]
  },
  {
   "cell_type": "code",
   "execution_count": 8,
   "id": "d408a04a",
   "metadata": {},
   "outputs": [
    {
     "name": "stdout",
     "output_type": "stream",
     "text": [
      "51.6 ms ± 10.7 ms per loop (mean ± std. dev. of 7 runs, 10 loops each)\n"
     ]
    }
   ],
   "source": [
    "%timeit np.save('test', testarr)"
   ]
  },
  {
   "cell_type": "code",
   "execution_count": 2,
   "id": "f6a6d851",
   "metadata": {},
   "outputs": [],
   "source": [
    "arr = np.load('test.npy')"
   ]
  },
  {
   "cell_type": "code",
   "execution_count": 6,
   "id": "e5cb542e",
   "metadata": {},
   "outputs": [],
   "source": [
    "s = \"\"\"leftEar-nose-midShoulder\n",
    "rightEar-nose-midShoulder\n",
    "nose-midShoulder-leftShoulder\n",
    "nose-midShoulder-rightShoulder\n",
    "midShoulder-leftShoulder-leftElbow\n",
    "midShoulder-rightShoulder-rightElbow\n",
    "nose-midShoulder-leftElbow\n",
    "nose-midShoulder-rightElbow\n",
    "leftShoulder-leftElbow-leftWrist\n",
    "rightShoulder-rightElbow-rightWrist\n",
    "midShoulder-midHip-leftHip\n",
    "midShoulder-midHip-rightHip\n",
    "leftShoulder-leftHip-leftKnee\n",
    "rightShoulder-rightHip-rightKnee\n",
    "leftHip-leftKnee-leftAnkle\n",
    "rightHip-rightKnee-rightAnkle\n",
    "nose-midShoulder-midHip\n",
    "vertical(midShoulder)-midShoulder-midHip\n",
    "vertical(nose)-nose-midShoulder\"\"\"\n"
   ]
  },
  {
   "cell_type": "code",
   "execution_count": 7,
   "id": "95caa51b",
   "metadata": {},
   "outputs": [
    {
     "data": {
      "text/plain": [
       "['leftEar-nose-midShoulder',\n",
       " 'rightEar-nose-midShoulder',\n",
       " 'nose-midShoulder-leftShoulder',\n",
       " 'nose-midShoulder-rightShoulder',\n",
       " 'midShoulder-leftShoulder-leftElbow',\n",
       " 'midShoulder-rightShoulder-rightElbow',\n",
       " 'nose-midShoulder-leftElbow',\n",
       " 'nose-midShoulder-rightElbow',\n",
       " 'leftShoulder-leftElbow-leftWrist',\n",
       " 'rightShoulder-rightElbow-rightWrist',\n",
       " 'midShoulder-midHip-leftHip',\n",
       " 'midShoulder-midHip-rightHip',\n",
       " 'leftShoulder-leftHip-leftKnee',\n",
       " 'rightShoulder-rightHip-rightKnee',\n",
       " 'leftHip-leftKnee-leftAnkle',\n",
       " 'rightHip-rightKnee-rightAnkle',\n",
       " 'nose-midShoulder-midHip',\n",
       " 'vertical(midShoulder)-midShoulder-midHip',\n",
       " 'vertical(nose)-nose-midShoulder']"
      ]
     },
     "execution_count": 7,
     "metadata": {},
     "output_type": "execute_result"
    }
   ],
   "source": [
    "s.split()"
   ]
  },
  {
   "cell_type": "code",
   "execution_count": 8,
   "id": "3d7c2aa0",
   "metadata": {},
   "outputs": [],
   "source": [
    "arr = s.split()"
   ]
  },
  {
   "cell_type": "code",
   "execution_count": 10,
   "id": "19771284",
   "metadata": {},
   "outputs": [
    {
     "ename": "IndentationError",
     "evalue": "unexpected indent (239657643.py, line 2)",
     "output_type": "error",
     "traceback": [
      "\u001b[0;36m  Cell \u001b[0;32mIn[10], line 2\u001b[0;36m\u001b[0m\n\u001b[0;31m    'rightEar-nose-midShoulder',\u001b[0m\n\u001b[0m    ^\u001b[0m\n\u001b[0;31mIndentationError\u001b[0m\u001b[0;31m:\u001b[0m unexpected indent\n"
     ]
    }
   ],
   "source": [
    "%timeit np.array(['leftEar-nose-midShoulder',\n",
    " 'rightEar-nose-midShoulder',\n",
    " 'nose-midShoulder-leftShoulder',\n",
    " 'nose-midShoulder-rightShoulder',\n",
    " 'midShoulder-leftShoulder-leftElbow',\n",
    " 'midShoulder-rightShoulder-rightElbow',\n",
    " 'nose-midShoulder-leftElbow',\n",
    " 'nose-midShoulder-rightElbow',\n",
    " 'leftShoulder-leftElbow-leftWrist',\n",
    " 'rightShoulder-rightElbow-rightWrist',\n",
    " 'midShoulder-midHip-leftHip',\n",
    " 'midShoulder-midHip-rightHip',\n",
    " 'leftShoulder-leftHip-leftKnee',\n",
    " 'rightShoulder-rightHip-rightKnee',\n",
    " 'leftHip-leftKnee-leftAnkle',\n",
    " 'rightHip-rightKnee-rightAnkle',\n",
    " 'nose-midShoulder-midHip',\n",
    " 'vertical(midShoulder)-midShoulder-midHip',\n",
    " 'vertical(nose)-nose-midShoulder'])"
   ]
  },
  {
   "cell_type": "code",
   "execution_count": 3,
   "id": "cc4a5658",
   "metadata": {},
   "outputs": [
    {
     "name": "stdout",
     "output_type": "stream",
     "text": [
      "4.44 ms ± 128 µs per loop (mean ± std. dev. of 7 runs, 100 loops each)\n"
     ]
    }
   ],
   "source": [
    "%timeit arr.astype('float32')"
   ]
  },
  {
   "cell_type": "code",
   "execution_count": 4,
   "id": "84b16852",
   "metadata": {},
   "outputs": [
    {
     "data": {
      "text/plain": [
       "array([[[0., 0., 0.],\n",
       "        [0., 0., 0.],\n",
       "        [0., 0., 0.],\n",
       "        ...,\n",
       "        [0., 0., 0.],\n",
       "        [0., 0., 0.],\n",
       "        [0., 0., 0.]],\n",
       "\n",
       "       [[0., 0., 0.],\n",
       "        [0., 0., 0.],\n",
       "        [0., 0., 0.],\n",
       "        ...,\n",
       "        [0., 0., 0.],\n",
       "        [0., 0., 0.],\n",
       "        [0., 0., 0.]],\n",
       "\n",
       "       [[0., 0., 0.],\n",
       "        [0., 0., 0.],\n",
       "        [0., 0., 0.],\n",
       "        ...,\n",
       "        [0., 0., 0.],\n",
       "        [0., 0., 0.],\n",
       "        [0., 0., 0.]],\n",
       "\n",
       "       ...,\n",
       "\n",
       "       [[0., 0., 0.],\n",
       "        [0., 0., 0.],\n",
       "        [0., 0., 0.],\n",
       "        ...,\n",
       "        [0., 0., 0.],\n",
       "        [0., 0., 0.],\n",
       "        [0., 0., 0.]],\n",
       "\n",
       "       [[0., 0., 0.],\n",
       "        [0., 0., 0.],\n",
       "        [0., 0., 0.],\n",
       "        ...,\n",
       "        [0., 0., 0.],\n",
       "        [0., 0., 0.],\n",
       "        [0., 0., 0.]],\n",
       "\n",
       "       [[0., 0., 0.],\n",
       "        [0., 0., 0.],\n",
       "        [0., 0., 0.],\n",
       "        ...,\n",
       "        [0., 0., 0.],\n",
       "        [0., 0., 0.],\n",
       "        [0., 0., 0.]]])"
      ]
     },
     "execution_count": 4,
     "metadata": {},
     "output_type": "execute_result"
    }
   ],
   "source": [
    "arr"
   ]
  },
  {
   "cell_type": "code",
   "execution_count": null,
   "id": "f81e0525",
   "metadata": {},
   "outputs": [],
   "source": []
  }
 ],
 "metadata": {
  "kernelspec": {
   "display_name": "Python 3 (ipykernel)",
   "language": "python",
   "name": "python3"
  },
  "language_info": {
   "codemirror_mode": {
    "name": "ipython",
    "version": 3
   },
   "file_extension": ".py",
   "mimetype": "text/x-python",
   "name": "python",
   "nbconvert_exporter": "python",
   "pygments_lexer": "ipython3",
   "version": "3.9.5"
  }
 },
 "nbformat": 4,
 "nbformat_minor": 5
}
