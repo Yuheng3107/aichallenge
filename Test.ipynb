{
 "cells": [
  {
   "cell_type": "code",
   "execution_count": 1,
   "source": [
    "import numpy as np\r\n"
   ],
   "outputs": [],
   "metadata": {}
  },
  {
   "cell_type": "code",
   "execution_count": 8,
   "source": [
    "import numpy as np\r\n",
    "a = np.array([1,2])\r\n",
    "b = np.array([1,1])\r\n",
    "print(np.linalg.norm(a-b))"
   ],
   "outputs": [
    {
     "output_type": "stream",
     "name": "stdout",
     "text": [
      "1.0\n"
     ]
    }
   ],
   "metadata": {}
  },
  {
   "cell_type": "code",
   "execution_count": 2,
   "source": [
    "testarr = np.zeros((720, 1280, 3))\r\n"
   ],
   "outputs": [],
   "metadata": {}
  },
  {
   "cell_type": "code",
   "execution_count": 3,
   "source": [
    "testarr"
   ],
   "outputs": [
    {
     "output_type": "execute_result",
     "data": {
      "text/plain": [
       "array([[[0., 0., 0.],\n",
       "        [0., 0., 0.],\n",
       "        [0., 0., 0.],\n",
       "        ...,\n",
       "        [0., 0., 0.],\n",
       "        [0., 0., 0.],\n",
       "        [0., 0., 0.]],\n",
       "\n",
       "       [[0., 0., 0.],\n",
       "        [0., 0., 0.],\n",
       "        [0., 0., 0.],\n",
       "        ...,\n",
       "        [0., 0., 0.],\n",
       "        [0., 0., 0.],\n",
       "        [0., 0., 0.]],\n",
       "\n",
       "       [[0., 0., 0.],\n",
       "        [0., 0., 0.],\n",
       "        [0., 0., 0.],\n",
       "        ...,\n",
       "        [0., 0., 0.],\n",
       "        [0., 0., 0.],\n",
       "        [0., 0., 0.]],\n",
       "\n",
       "       ...,\n",
       "\n",
       "       [[0., 0., 0.],\n",
       "        [0., 0., 0.],\n",
       "        [0., 0., 0.],\n",
       "        ...,\n",
       "        [0., 0., 0.],\n",
       "        [0., 0., 0.],\n",
       "        [0., 0., 0.]],\n",
       "\n",
       "       [[0., 0., 0.],\n",
       "        [0., 0., 0.],\n",
       "        [0., 0., 0.],\n",
       "        ...,\n",
       "        [0., 0., 0.],\n",
       "        [0., 0., 0.],\n",
       "        [0., 0., 0.]],\n",
       "\n",
       "       [[0., 0., 0.],\n",
       "        [0., 0., 0.],\n",
       "        [0., 0., 0.],\n",
       "        ...,\n",
       "        [0., 0., 0.],\n",
       "        [0., 0., 0.],\n",
       "        [0., 0., 0.]]])"
      ]
     },
     "metadata": {},
     "execution_count": 3
    }
   ],
   "metadata": {}
  },
  {
   "cell_type": "code",
   "execution_count": 8,
   "source": [
    "%timeit np.save('test', testarr)"
   ],
   "outputs": [
    {
     "output_type": "stream",
     "name": "stdout",
     "text": [
      "51.6 ms ± 10.7 ms per loop (mean ± std. dev. of 7 runs, 10 loops each)\n"
     ]
    }
   ],
   "metadata": {}
  },
  {
   "cell_type": "code",
   "execution_count": 2,
   "source": [
    "arr = np.load('test.npy')"
   ],
   "outputs": [],
   "metadata": {}
  },
  {
   "cell_type": "code",
   "execution_count": 6,
   "source": [
    "s = \"\"\"leftEar-nose-midShoulder\r\n",
    "rightEar-nose-midShoulder\r\n",
    "nose-midShoulder-leftShoulder\r\n",
    "nose-midShoulder-rightShoulder\r\n",
    "midShoulder-leftShoulder-leftElbow\r\n",
    "midShoulder-rightShoulder-rightElbow\r\n",
    "nose-midShoulder-leftElbow\r\n",
    "nose-midShoulder-rightElbow\r\n",
    "leftShoulder-leftElbow-leftWrist\r\n",
    "rightShoulder-rightElbow-rightWrist\r\n",
    "midShoulder-midHip-leftHip\r\n",
    "midShoulder-midHip-rightHip\r\n",
    "leftShoulder-leftHip-leftKnee\r\n",
    "rightShoulder-rightHip-rightKnee\r\n",
    "leftHip-leftKnee-leftAnkle\r\n",
    "rightHip-rightKnee-rightAnkle\r\n",
    "nose-midShoulder-midHip\r\n",
    "vertical(midShoulder)-midShoulder-midHip\r\n",
    "vertical(nose)-nose-midShoulder\"\"\"\r\n"
   ],
   "outputs": [],
   "metadata": {}
  },
  {
   "cell_type": "code",
   "execution_count": 7,
   "source": [
    "s.split()"
   ],
   "outputs": [
    {
     "output_type": "execute_result",
     "data": {
      "text/plain": [
       "['leftEar-nose-midShoulder',\n",
       " 'rightEar-nose-midShoulder',\n",
       " 'nose-midShoulder-leftShoulder',\n",
       " 'nose-midShoulder-rightShoulder',\n",
       " 'midShoulder-leftShoulder-leftElbow',\n",
       " 'midShoulder-rightShoulder-rightElbow',\n",
       " 'nose-midShoulder-leftElbow',\n",
       " 'nose-midShoulder-rightElbow',\n",
       " 'leftShoulder-leftElbow-leftWrist',\n",
       " 'rightShoulder-rightElbow-rightWrist',\n",
       " 'midShoulder-midHip-leftHip',\n",
       " 'midShoulder-midHip-rightHip',\n",
       " 'leftShoulder-leftHip-leftKnee',\n",
       " 'rightShoulder-rightHip-rightKnee',\n",
       " 'leftHip-leftKnee-leftAnkle',\n",
       " 'rightHip-rightKnee-rightAnkle',\n",
       " 'nose-midShoulder-midHip',\n",
       " 'vertical(midShoulder)-midShoulder-midHip',\n",
       " 'vertical(nose)-nose-midShoulder']"
      ]
     },
     "metadata": {},
     "execution_count": 7
    }
   ],
   "metadata": {}
  },
  {
   "cell_type": "code",
   "execution_count": 8,
   "source": [
    "arr = s.split()"
   ],
   "outputs": [],
   "metadata": {}
  },
  {
   "cell_type": "code",
   "execution_count": 10,
   "source": [
    "%timeit np.array(['leftEar-nose-midShoulder',\r\n",
    " 'rightEar-nose-midShoulder',\r\n",
    " 'nose-midShoulder-leftShoulder',\r\n",
    " 'nose-midShoulder-rightShoulder',\r\n",
    " 'midShoulder-leftShoulder-leftElbow',\r\n",
    " 'midShoulder-rightShoulder-rightElbow',\r\n",
    " 'nose-midShoulder-leftElbow',\r\n",
    " 'nose-midShoulder-rightElbow',\r\n",
    " 'leftShoulder-leftElbow-leftWrist',\r\n",
    " 'rightShoulder-rightElbow-rightWrist',\r\n",
    " 'midShoulder-midHip-leftHip',\r\n",
    " 'midShoulder-midHip-rightHip',\r\n",
    " 'leftShoulder-leftHip-leftKnee',\r\n",
    " 'rightShoulder-rightHip-rightKnee',\r\n",
    " 'leftHip-leftKnee-leftAnkle',\r\n",
    " 'rightHip-rightKnee-rightAnkle',\r\n",
    " 'nose-midShoulder-midHip',\r\n",
    " 'vertical(midShoulder)-midShoulder-midHip',\r\n",
    " 'vertical(nose)-nose-midShoulder'])"
   ],
   "outputs": [
    {
     "output_type": "error",
     "ename": "IndentationError",
     "evalue": "unexpected indent (239657643.py, line 2)",
     "traceback": [
      "\u001b[0;36m  Cell \u001b[0;32mIn[10], line 2\u001b[0;36m\u001b[0m\n\u001b[0;31m    'rightEar-nose-midShoulder',\u001b[0m\n\u001b[0m    ^\u001b[0m\n\u001b[0;31mIndentationError\u001b[0m\u001b[0;31m:\u001b[0m unexpected indent\n"
     ]
    }
   ],
   "metadata": {}
  },
  {
   "cell_type": "code",
   "execution_count": 3,
   "source": [
    "%timeit arr.astype('float32')"
   ],
   "outputs": [
    {
     "output_type": "stream",
     "name": "stdout",
     "text": [
      "4.44 ms ± 128 µs per loop (mean ± std. dev. of 7 runs, 100 loops each)\n"
     ]
    }
   ],
   "metadata": {}
  },
  {
   "cell_type": "code",
   "execution_count": 4,
   "source": [
    "arr"
   ],
   "outputs": [
    {
     "output_type": "execute_result",
     "data": {
      "text/plain": [
       "array([[[0., 0., 0.],\n",
       "        [0., 0., 0.],\n",
       "        [0., 0., 0.],\n",
       "        ...,\n",
       "        [0., 0., 0.],\n",
       "        [0., 0., 0.],\n",
       "        [0., 0., 0.]],\n",
       "\n",
       "       [[0., 0., 0.],\n",
       "        [0., 0., 0.],\n",
       "        [0., 0., 0.],\n",
       "        ...,\n",
       "        [0., 0., 0.],\n",
       "        [0., 0., 0.],\n",
       "        [0., 0., 0.]],\n",
       "\n",
       "       [[0., 0., 0.],\n",
       "        [0., 0., 0.],\n",
       "        [0., 0., 0.],\n",
       "        ...,\n",
       "        [0., 0., 0.],\n",
       "        [0., 0., 0.],\n",
       "        [0., 0., 0.]],\n",
       "\n",
       "       ...,\n",
       "\n",
       "       [[0., 0., 0.],\n",
       "        [0., 0., 0.],\n",
       "        [0., 0., 0.],\n",
       "        ...,\n",
       "        [0., 0., 0.],\n",
       "        [0., 0., 0.],\n",
       "        [0., 0., 0.]],\n",
       "\n",
       "       [[0., 0., 0.],\n",
       "        [0., 0., 0.],\n",
       "        [0., 0., 0.],\n",
       "        ...,\n",
       "        [0., 0., 0.],\n",
       "        [0., 0., 0.],\n",
       "        [0., 0., 0.]],\n",
       "\n",
       "       [[0., 0., 0.],\n",
       "        [0., 0., 0.],\n",
       "        [0., 0., 0.],\n",
       "        ...,\n",
       "        [0., 0., 0.],\n",
       "        [0., 0., 0.],\n",
       "        [0., 0., 0.]]])"
      ]
     },
     "metadata": {},
     "execution_count": 4
    }
   ],
   "metadata": {}
  },
  {
   "cell_type": "code",
   "execution_count": null,
   "source": [],
   "outputs": [],
   "metadata": {}
  }
 ],
 "metadata": {
  "kernelspec": {
   "name": "python3",
   "display_name": "Python 3.9.13 64-bit"
  },
  "language_info": {
   "codemirror_mode": {
    "name": "ipython",
    "version": 3
   },
   "file_extension": ".py",
   "mimetype": "text/x-python",
   "name": "python",
   "nbconvert_exporter": "python",
   "pygments_lexer": "ipython3",
   "version": "3.9.13"
  },
  "interpreter": {
   "hash": "94eebb741f61db304c9bf770b9f3ef81f96944b62446c8602b4fb6bb7407e075"
  }
 },
 "nbformat": 4,
 "nbformat_minor": 5
}